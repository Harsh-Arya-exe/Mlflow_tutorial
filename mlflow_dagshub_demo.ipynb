{
 "cells": [
  {
   "metadata": {},
   "cell_type": "markdown",
   "source": "### Dagshub Tutorial",
   "id": "b2b672ed11cb0e33"
  },
  {
   "cell_type": "code",
   "id": "initial_id",
   "metadata": {
    "collapsed": true,
    "ExecuteTime": {
     "end_time": "2025-06-25T10:55:17.053035Z",
     "start_time": "2025-06-25T10:55:16.449817Z"
    }
   },
   "source": [
    "import numpy as np\n",
    "from sklearn.datasets import make_classification\n",
    "from sklearn.model_selection import train_test_split\n",
    "from sklearn.linear_model import LogisticRegression\n",
    "from sklearn.ensemble import RandomForestClassifier\n",
    "from xgboost import XGBClassifier\n",
    "from sklearn.metrics import classification_report\n",
    "import warnings\n",
    "warnings.filterwarnings('ignore')"
   ],
   "outputs": [],
   "execution_count": 1
  },
  {
   "metadata": {
    "ExecuteTime": {
     "end_time": "2025-06-25T10:55:24.716520Z",
     "start_time": "2025-06-25T10:55:24.707519Z"
    }
   },
   "cell_type": "code",
   "source": [
    "X, y = make_classification(n_samples=1000, n_features=10, n_informative=2, n_redundant=8,\n",
    "                           weights=[0.9, 0.1], flip_y=0, random_state=42)\n",
    "\n",
    "np.unique(y, return_counts=True)"
   ],
   "id": "e7b08f90bbc3886a",
   "outputs": [
    {
     "data": {
      "text/plain": [
       "(array([0, 1]), array([900, 100], dtype=int64))"
      ]
     },
     "execution_count": 2,
     "metadata": {},
     "output_type": "execute_result"
    }
   ],
   "execution_count": 2
  },
  {
   "metadata": {
    "ExecuteTime": {
     "end_time": "2025-06-25T10:55:32.210744Z",
     "start_time": "2025-06-25T10:55:32.195736Z"
    }
   },
   "cell_type": "code",
   "source": "X_train, X_test, y_train, y_test = train_test_split(X, y, test_size=0.3, stratify=y, random_state=42)",
   "id": "f1cb5e608b9c4b4d",
   "outputs": [],
   "execution_count": 3
  },
  {
   "metadata": {},
   "cell_type": "markdown",
   "source": "### Handle class imbalance",
   "id": "6bf39e037be3880f"
  },
  {
   "metadata": {
    "ExecuteTime": {
     "end_time": "2025-06-25T10:56:27.878352Z",
     "start_time": "2025-06-25T10:56:27.806353Z"
    }
   },
   "cell_type": "code",
   "source": [
    "from imblearn.combine import SMOTETomek\n",
    "\n",
    "smt = SMOTETomek(random_state=42)\n",
    "X_train_res, y_train_res = smt.fit_resample(X_train, y_train)\n",
    "np.unique(y_train_res, return_counts=True)"
   ],
   "id": "1cf8df8567cf3ec",
   "outputs": [
    {
     "data": {
      "text/plain": [
       "(array([0, 1]), array([619, 619], dtype=int64))"
      ]
     },
     "execution_count": 4,
     "metadata": {},
     "output_type": "execute_result"
    }
   ],
   "execution_count": 4
  },
  {
   "metadata": {},
   "cell_type": "markdown",
   "source": "### Track Experiments",
   "id": "990777fc6ea680dd"
  },
  {
   "metadata": {
    "ExecuteTime": {
     "end_time": "2025-06-25T10:56:46.381167Z",
     "start_time": "2025-06-25T10:56:46.372166Z"
    }
   },
   "cell_type": "code",
   "source": [
    "models = [\n",
    "    (\n",
    "        \"Logistic Regression\",\n",
    "        {\"C\": 1, \"solver\": 'liblinear'},\n",
    "        LogisticRegression(),\n",
    "        (X_train, y_train),\n",
    "        (X_test, y_test)\n",
    "    ),\n",
    "    (\n",
    "        \"Random Forest\",\n",
    "        {\"n_estimators\": 30, \"max_depth\": 3},\n",
    "        RandomForestClassifier(),\n",
    "        (X_train, y_train),\n",
    "        (X_test, y_test)\n",
    "    ),\n",
    "    (\n",
    "        \"XGBClassifier\",\n",
    "        {\"use_label_encoder\": False, \"eval_metric\": 'logloss'},\n",
    "        XGBClassifier(),\n",
    "        (X_train, y_train),\n",
    "        (X_test, y_test)\n",
    "    ),\n",
    "    (\n",
    "        \"XGBClassifier With SMOTE\",\n",
    "        {\"use_label_encoder\": False, \"eval_metric\": 'logloss'},\n",
    "        XGBClassifier(),\n",
    "        (X_train_res, y_train_res),\n",
    "        (X_test, y_test)\n",
    "    )\n",
    "]"
   ],
   "id": "cfe32010ff37fa4e",
   "outputs": [],
   "execution_count": 5
  },
  {
   "metadata": {
    "ExecuteTime": {
     "end_time": "2025-06-25T10:56:52.654389Z",
     "start_time": "2025-06-25T10:56:52.534372Z"
    }
   },
   "cell_type": "code",
   "source": [
    "reports = []\n",
    "\n",
    "for model_name, params, model, train_set, test_set in models:\n",
    "    X_train = train_set[0]\n",
    "    y_train = train_set[1]\n",
    "    X_test = test_set[0]\n",
    "    y_test = test_set[1]\n",
    "\n",
    "    model.set_params(**params)\n",
    "    model.fit(X_train, y_train)\n",
    "    y_pred = model.predict(X_test)\n",
    "    report = classification_report(y_test, y_pred, output_dict=True)\n",
    "    reports.append(report)"
   ],
   "id": "c07c021b59f81f35",
   "outputs": [],
   "execution_count": 6
  },
  {
   "metadata": {
    "ExecuteTime": {
     "end_time": "2025-06-25T10:56:59.978070Z",
     "start_time": "2025-06-25T10:56:59.746757Z"
    }
   },
   "cell_type": "code",
   "source": [
    "import mlflow\n",
    "import mlflow.sklearn\n",
    "import mlflow.xgboost"
   ],
   "id": "2acfcab690c695b9",
   "outputs": [],
   "execution_count": 7
  },
  {
   "metadata": {
    "ExecuteTime": {
     "end_time": "2025-06-25T11:05:02.669976Z",
     "start_time": "2025-06-25T11:04:51.441865Z"
    }
   },
   "cell_type": "code",
   "source": [
    "#dagshub setup\n",
    "import dagshub\n",
    "dagshub.init(repo_owner='harsh.arya1004', repo_name='Mlflow_tutorial', mlflow=True)"
   ],
   "id": "e6fc26fe6449413a",
   "outputs": [
    {
     "data": {
      "text/plain": [
       "                                       \u001B[1m❗❗❗ AUTHORIZATION REQUIRED ❗❗❗\u001B[0m                                        \n"
      ],
      "text/html": [
       "<pre style=\"white-space:pre;overflow-x:auto;line-height:normal;font-family:Menlo,'DejaVu Sans Mono',consolas,'Courier New',monospace\">                                       <span style=\"font-weight: bold\">❗❗❗ AUTHORIZATION REQUIRED ❗❗❗</span>                                        \n",
       "</pre>\n"
      ]
     },
     "metadata": {},
     "output_type": "display_data"
    },
    {
     "name": "stdout",
     "output_type": "stream",
     "text": [
      "\n",
      "\n",
      "Open the following link in your browser to authorize the client:\n",
      "https://dagshub.com/login/oauth/authorize?state=3f230ba4-5b1a-4084-802e-41e68e1c8ac8&client_id=32b60ba385aa7cecf24046d8195a71c07dd345d9657977863b52e7748e0f0f28&middleman_request_id=3ba81b29fe3753b7bee328ba9b78f64173d71f785df2a526f25a489494e385a4\n",
      "\n",
      "\n"
     ]
    },
    {
     "data": {
      "text/plain": [],
      "text/html": [
       "<pre style=\"white-space:pre;overflow-x:auto;line-height:normal;font-family:Menlo,'DejaVu Sans Mono',consolas,'Courier New',monospace\"></pre>\n"
      ]
     },
     "metadata": {},
     "output_type": "display_data"
    },
    {
     "data": {
      "text/plain": [
       "Accessing as harsh.arya1004\n"
      ],
      "text/html": [
       "<pre style=\"white-space:pre;overflow-x:auto;line-height:normal;font-family:Menlo,'DejaVu Sans Mono',consolas,'Courier New',monospace\">Accessing as harsh.arya1004\n",
       "</pre>\n"
      ]
     },
     "metadata": {},
     "output_type": "display_data"
    },
    {
     "data": {
      "text/plain": [
       "Initialized MLflow to track repo \u001B[32m\"harsh.arya1004/Mlflow_tutorial\"\u001B[0m\n"
      ],
      "text/html": [
       "<pre style=\"white-space:pre;overflow-x:auto;line-height:normal;font-family:Menlo,'DejaVu Sans Mono',consolas,'Courier New',monospace\">Initialized MLflow to track repo <span style=\"color: #008000; text-decoration-color: #008000\">\"harsh.arya1004/Mlflow_tutorial\"</span>\n",
       "</pre>\n"
      ]
     },
     "metadata": {},
     "output_type": "display_data"
    },
    {
     "data": {
      "text/plain": [
       "Repository harsh.arya1004/Mlflow_tutorial initialized!\n"
      ],
      "text/html": [
       "<pre style=\"white-space:pre;overflow-x:auto;line-height:normal;font-family:Menlo,'DejaVu Sans Mono',consolas,'Courier New',monospace\">Repository harsh.arya1004/Mlflow_tutorial initialized!\n",
       "</pre>\n"
      ]
     },
     "metadata": {},
     "output_type": "display_data"
    }
   ],
   "execution_count": 8
  },
  {
   "metadata": {
    "ExecuteTime": {
     "end_time": "2025-06-25T11:10:31.601297Z",
     "start_time": "2025-06-25T11:09:56.706735Z"
    }
   },
   "cell_type": "code",
   "source": [
    "mlflow.set_experiment(\"Anomaly Detection\")\n",
    "mlflow.set_tracking_uri(\"https://dagshub.com/harsh.arya1004/Mlflow_tutorial.mlflow\")\n",
    "\n",
    "for i, element in enumerate(models):\n",
    "    model_name = element[0]\n",
    "    params = element[1]\n",
    "    model = element[2]\n",
    "\n",
    "    metrics = dict()\n",
    "    metrics['accuracy'] = reports[i]['accuracy']\n",
    "    metrics['recall_class_0'] = reports[i]['0']['recall']\n",
    "    metrics['recall_class_1'] = reports[i]['1']['recall']\n",
    "    metrics['f1_score_macro'] = reports[i]['macro avg']['f1-score']\n",
    "    metrics['f1_score_weighted'] = reports[i]['weighted avg']['f1-score']\n",
    "\n",
    "    with mlflow.start_run(run_name=model_name):\n",
    "        mlflow.log_params(params)\n",
    "        mlflow.log_metrics(metrics)\n",
    "        if \"XGB\" in model_name:\n",
    "            mlflow.xgboost.log_model(model, 'model')\n",
    "        else:\n",
    "            mlflow.sklearn.log_model(model, 'model')"
   ],
   "id": "2eae5f5f761b365d",
   "outputs": [],
   "execution_count": 10
  },
  {
   "metadata": {},
   "cell_type": "markdown",
   "source": "### Register the model(On Remote - Dagshub)",
   "id": "f803ae17352a6883"
  },
  {
   "metadata": {
    "ExecuteTime": {
     "end_time": "2025-06-25T11:26:37.722097Z",
     "start_time": "2025-06-25T11:26:34.243954Z"
    }
   },
   "cell_type": "code",
   "source": [
    "model_name = \"XGBClassifier\"\n",
    "run_id = input(\"Enter the run id for this run: \")\n",
    "model_uri = f\"runs:/{run_id}/model\"\n",
    "mlflow.register_model(model_uri , model_name)"
   ],
   "id": "96aa858910213d5e",
   "outputs": [
    {
     "name": "stderr",
     "output_type": "stream",
     "text": [
      "Registered model 'XGBClassifier' already exists. Creating a new version of this model...\n",
      "2025/06/25 16:56:37 INFO mlflow.store.model_registry.abstract_store: Waiting up to 300 seconds for model version to finish creation. Model name: XGBClassifier, version 2\n",
      "Created version '2' of model 'XGBClassifier'.\n"
     ]
    },
    {
     "data": {
      "text/plain": [
       "<ModelVersion: aliases=[], creation_timestamp=1750850797376, current_stage='None', description='', last_updated_timestamp=1750850797376, name='XGBClassifier', run_id='d962619620e24edfb5b6739a5faa8c82', run_link='', source='mlflow-artifacts:/1fa05a5e82b8460aa6c0908366774c26/d962619620e24edfb5b6739a5faa8c82/artifacts/model', status='READY', status_message='', tags={}, user_id='', version='2'>"
      ]
     },
     "execution_count": 19,
     "metadata": {},
     "output_type": "execute_result"
    }
   ],
   "execution_count": 19
  },
  {
   "metadata": {},
   "cell_type": "markdown",
   "source": "### Transition from Model to Production - (On Remote)",
   "id": "a2fd7d15e8e76bd3"
  },
  {
   "metadata": {
    "ExecuteTime": {
     "end_time": "2025-06-25T11:31:25.225484Z",
     "start_time": "2025-06-25T11:31:24.094514Z"
    }
   },
   "cell_type": "code",
   "source": [
    "from mlflow import MlflowClient\n",
    "current_model_uri = f\"models:/{model_name}/2\"\n",
    "prod_model_name = 'final-model'\n",
    "\n",
    "client = MlflowClient()\n",
    "\n",
    "client.copy_model_version(src_model_uri=current_model_uri, dst_name=prod_model_name)"
   ],
   "id": "a79b6f8df2e303bf",
   "outputs": [
    {
     "data": {
      "text/plain": [
       "<ModelVersion: aliases=[], creation_timestamp=1750851084890, current_stage='None', description='', last_updated_timestamp=1750851084890, name='final-model', run_id='d962619620e24edfb5b6739a5faa8c82', run_link='', source='models:/XGBClassifier/2', status='READY', status_message='', tags={}, user_id='', version='2'>"
      ]
     },
     "execution_count": 21,
     "metadata": {},
     "output_type": "execute_result"
    }
   ],
   "execution_count": 21
  },
  {
   "metadata": {},
   "cell_type": "markdown",
   "source": "### Loading the Production Model - (From Remote)",
   "id": "c8db4874e970131"
  },
  {
   "metadata": {
    "ExecuteTime": {
     "end_time": "2025-06-25T11:34:03.374245Z",
     "start_time": "2025-06-25T11:34:01.031990Z"
    }
   },
   "cell_type": "code",
   "source": [
    "model_name = 'final-model'\n",
    "model_uri = f\"models:/{model_name}@champion\"\n",
    "loaded_model = mlflow.xgboost.load_model(model_uri)\n",
    "y_pred = loaded_model.predict(X_test)\n",
    "y_pred[:5]"
   ],
   "id": "8054b7b3ac8fcb5d",
   "outputs": [
    {
     "data": {
      "text/plain": [
       "array([0, 0, 0, 0, 0])"
      ]
     },
     "execution_count": 24,
     "metadata": {},
     "output_type": "execute_result"
    }
   ],
   "execution_count": 24
  }
 ],
 "metadata": {
  "kernelspec": {
   "display_name": "Python 3",
   "language": "python",
   "name": "python3"
  },
  "language_info": {
   "codemirror_mode": {
    "name": "ipython",
    "version": 2
   },
   "file_extension": ".py",
   "mimetype": "text/x-python",
   "name": "python",
   "nbconvert_exporter": "python",
   "pygments_lexer": "ipython2",
   "version": "2.7.6"
  }
 },
 "nbformat": 4,
 "nbformat_minor": 5
}
