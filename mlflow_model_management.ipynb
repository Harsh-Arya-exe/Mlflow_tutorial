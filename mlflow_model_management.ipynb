{
 "cells": [
  {
   "cell_type": "code",
   "id": "initial_id",
   "metadata": {
    "collapsed": true,
    "ExecuteTime": {
     "end_time": "2025-06-25T10:14:39.246663Z",
     "start_time": "2025-06-25T10:14:38.653697Z"
    }
   },
   "source": [
    "import numpy as np\n",
    "from sklearn.datasets import make_classification\n",
    "from sklearn.model_selection import train_test_split\n",
    "from sklearn.linear_model import LogisticRegression\n",
    "from sklearn.ensemble import RandomForestClassifier\n",
    "from xgboost import XGBClassifier\n",
    "from sklearn.metrics import classification_report\n",
    "import warnings\n",
    "warnings.filterwarnings('ignore')"
   ],
   "outputs": [],
   "execution_count": 1
  },
  {
   "metadata": {
    "ExecuteTime": {
     "end_time": "2025-06-25T10:14:42.428167Z",
     "start_time": "2025-06-25T10:14:42.418168Z"
    }
   },
   "cell_type": "code",
   "source": [
    "X, y = make_classification(n_samples=1000, n_features=10, n_informative=2, n_redundant=8,\n",
    "                           weights=[0.9, 0.1], flip_y=0, random_state=42)\n",
    "\n",
    "np.unique(y, return_counts=True)"
   ],
   "id": "668722cf38ecab9c",
   "outputs": [
    {
     "data": {
      "text/plain": [
       "(array([0, 1]), array([900, 100], dtype=int64))"
      ]
     },
     "execution_count": 2,
     "metadata": {},
     "output_type": "execute_result"
    }
   ],
   "execution_count": 2
  },
  {
   "metadata": {
    "ExecuteTime": {
     "end_time": "2025-06-25T10:14:43.725559Z",
     "start_time": "2025-06-25T10:14:43.712386Z"
    }
   },
   "cell_type": "code",
   "source": "X_train, X_test, y_train, y_test = train_test_split(X, y, test_size=0.3, stratify=y, random_state=42)",
   "id": "b1ae0dc9b7dec644",
   "outputs": [],
   "execution_count": 3
  },
  {
   "metadata": {},
   "cell_type": "markdown",
   "source": "### Handle class imbalance",
   "id": "1ec59d21ca9b746d"
  },
  {
   "metadata": {
    "ExecuteTime": {
     "end_time": "2025-06-25T10:14:45.113269Z",
     "start_time": "2025-06-25T10:14:45.040899Z"
    }
   },
   "cell_type": "code",
   "source": [
    "from imblearn.combine import SMOTETomek\n",
    "\n",
    "smt = SMOTETomek(random_state=42)\n",
    "X_train_res, y_train_res = smt.fit_resample(X_train, y_train)\n",
    "np.unique(y_train_res, return_counts=True)"
   ],
   "id": "f1979e1b831e5af4",
   "outputs": [
    {
     "data": {
      "text/plain": [
       "(array([0, 1]), array([619, 619], dtype=int64))"
      ]
     },
     "execution_count": 4,
     "metadata": {},
     "output_type": "execute_result"
    }
   ],
   "execution_count": 4
  },
  {
   "metadata": {},
   "cell_type": "markdown",
   "source": "### Track Experiments",
   "id": "c1dd2dcf1b5ff21"
  },
  {
   "metadata": {
    "ExecuteTime": {
     "end_time": "2025-06-25T10:14:46.300268Z",
     "start_time": "2025-06-25T10:14:46.287261Z"
    }
   },
   "cell_type": "code",
   "source": [
    "models = [\n",
    "    (\n",
    "        \"Logistic Regression\",\n",
    "        {\"C\": 1, \"solver\": 'liblinear'},\n",
    "        LogisticRegression(),\n",
    "        (X_train, y_train),\n",
    "        (X_test, y_test)\n",
    "    ),\n",
    "    (\n",
    "        \"Random Forest\",\n",
    "        {\"n_estimators\": 30, \"max_depth\": 3},\n",
    "        RandomForestClassifier(),\n",
    "        (X_train, y_train),\n",
    "        (X_test, y_test)\n",
    "    ),\n",
    "    (\n",
    "        \"XGBClassifier\",\n",
    "        {\"use_label_encoder\": False, \"eval_metric\": 'logloss'},\n",
    "        XGBClassifier(),\n",
    "        (X_train, y_train),\n",
    "        (X_test, y_test)\n",
    "    ),\n",
    "    (\n",
    "        \"XGBClassifier With SMOTE\",\n",
    "        {\"use_label_encoder\": False, \"eval_metric\": 'logloss'},\n",
    "        XGBClassifier(),\n",
    "        (X_train_res, y_train_res),\n",
    "        (X_test, y_test)\n",
    "    )\n",
    "]"
   ],
   "id": "33210d97a12e4854",
   "outputs": [],
   "execution_count": 5
  },
  {
   "metadata": {
    "ExecuteTime": {
     "end_time": "2025-06-25T10:14:48.539436Z",
     "start_time": "2025-06-25T10:14:48.429446Z"
    }
   },
   "cell_type": "code",
   "source": [
    "reports = []\n",
    "\n",
    "for model_name, params, model, train_set, test_set in models:\n",
    "    X_train, y_train = train_set\n",
    "    X_test, y_test = test_set\n",
    "\n",
    "    model.set_params(**params)\n",
    "    model.fit(X_train, y_train)\n",
    "    y_pred = model.predict(X_test)\n",
    "    report = classification_report(y_test, y_pred, output_dict=True)\n",
    "    reports.append(report)"
   ],
   "id": "820bb3e38ade4a0e",
   "outputs": [],
   "execution_count": 6
  },
  {
   "metadata": {
    "ExecuteTime": {
     "end_time": "2025-06-25T10:14:49.941900Z",
     "start_time": "2025-06-25T10:14:49.930899Z"
    }
   },
   "cell_type": "code",
   "source": "reports[0]",
   "id": "57a3b37c5ec3ff50",
   "outputs": [
    {
     "data": {
      "text/plain": [
       "{'0': {'precision': 0.9454545454545454,\n",
       "  'recall': 0.9629629629629629,\n",
       "  'f1-score': 0.9541284403669725,\n",
       "  'support': 270.0},\n",
       " '1': {'precision': 0.6,\n",
       "  'recall': 0.5,\n",
       "  'f1-score': 0.5454545454545454,\n",
       "  'support': 30.0},\n",
       " 'accuracy': 0.9166666666666666,\n",
       " 'macro avg': {'precision': 0.7727272727272727,\n",
       "  'recall': 0.7314814814814814,\n",
       "  'f1-score': 0.749791492910759,\n",
       "  'support': 300.0},\n",
       " 'weighted avg': {'precision': 0.9109090909090909,\n",
       "  'recall': 0.9166666666666666,\n",
       "  'f1-score': 0.91326105087573,\n",
       "  'support': 300.0}}"
      ]
     },
     "execution_count": 7,
     "metadata": {},
     "output_type": "execute_result"
    }
   ],
   "execution_count": 7
  },
  {
   "metadata": {
    "ExecuteTime": {
     "end_time": "2025-06-25T10:14:51.825068Z",
     "start_time": "2025-06-25T10:14:51.588608Z"
    }
   },
   "cell_type": "code",
   "source": [
    "import mlflow\n",
    "import sklearn\n",
    "import xgboost"
   ],
   "id": "f3f88e3e353d3f9f",
   "outputs": [],
   "execution_count": 8
  },
  {
   "metadata": {
    "ExecuteTime": {
     "end_time": "2025-06-25T10:15:32.812100Z",
     "start_time": "2025-06-25T10:15:26.383319Z"
    }
   },
   "cell_type": "code",
   "source": [
    "mlflow.set_experiment('Anomaly Detection')\n",
    "mlflow.set_tracking_uri('http://127.0.0.1:5000/')\n",
    "\n",
    "for i, element in enumerate(models):\n",
    "    name = element[0]\n",
    "    params = element[1]\n",
    "    model = element[2]\n",
    "\n",
    "    metrics = dict()\n",
    "    metrics['accuracy'] = reports[i]['accuracy']\n",
    "    metrics['recall_class_0'] = reports[i]['0']['recall']\n",
    "    metrics['recall_class_1'] = reports[i]['1']['recall']\n",
    "    metrics['f1_score_macro'] = reports[i]['macro avg']['f1-score']\n",
    "    metrics['f1_score_weighted'] = reports[i]['weighted avg']['f1-score']\n",
    "\n",
    "    with mlflow.start_run(run_name=name):\n",
    "\n",
    "        mlflow.log_metrics(metrics)\n",
    "\n",
    "        mlflow.log_params(params)\n",
    "\n",
    "        if \"XGB\" in name:\n",
    "            mlflow.xgboost.log_model(model, 'model')\n",
    "        else:\n",
    "            mlflow.sklearn.log_model(model, 'model')"
   ],
   "id": "edf68832c2e2193c",
   "outputs": [
    {
     "name": "stderr",
     "output_type": "stream",
     "text": [
      "2025/06/25 15:45:26 INFO mlflow.tracking.fluent: Experiment with name 'Anomaly Detection' does not exist. Creating a new experiment.\n"
     ]
    }
   ],
   "execution_count": 9
  },
  {
   "metadata": {},
   "cell_type": "markdown",
   "source": "### Register the Model",
   "id": "c6c7a47234a65da0"
  },
  {
   "metadata": {
    "ExecuteTime": {
     "end_time": "2025-06-25T10:30:14.680447Z",
     "start_time": "2025-06-25T10:30:11.022539Z"
    }
   },
   "cell_type": "code",
   "source": [
    "model_name = \"XGB-Smote\"\n",
    "run_id = input(\"Enter the run id for this run: \")\n",
    "model_uri = f\"runs:/{run_id}/model\"\n",
    "mlflow.register_model(model_uri, model_name)"
   ],
   "id": "4372eace6e41cbc",
   "outputs": [
    {
     "name": "stderr",
     "output_type": "stream",
     "text": [
      "Registered model 'XGB-Smote' already exists. Creating a new version of this model...\n",
      "2025/06/25 16:00:14 INFO mlflow.store.model_registry.abstract_store: Waiting up to 300 seconds for model version to finish creation. Model name: XGB-Smote, version 2\n",
      "Created version '2' of model 'XGB-Smote'.\n"
     ]
    },
    {
     "data": {
      "text/plain": [
       "<ModelVersion: aliases=[], creation_timestamp=1750847414630, current_stage='None', description='', last_updated_timestamp=1750847414630, name='XGB-Smote', run_id='69ff8faa8f814cafb7f375054115d3a4', run_link='', source='file:///D:/mlflow/mlruns/366931837630879397/69ff8faa8f814cafb7f375054115d3a4/artifacts/model', status='READY', status_message='', tags={}, user_id='', version='2'>"
      ]
     },
     "execution_count": 23,
     "metadata": {},
     "output_type": "execute_result"
    }
   ],
   "execution_count": 23
  },
  {
   "metadata": {},
   "cell_type": "markdown",
   "source": "### Load the Model",
   "id": "127cb4576310cef3"
  },
  {
   "metadata": {
    "ExecuteTime": {
     "end_time": "2025-06-25T10:30:25.678435Z",
     "start_time": "2025-06-25T10:30:25.650745Z"
    }
   },
   "cell_type": "code",
   "source": [
    "model_version = 2\n",
    "model_name = \"XGB-Smote\"\n",
    "model_uri = f\"models:/{model_name}/{model_version}\"\n",
    "loaded_model = mlflow.xgboost.load_model(model_uri)\n",
    "y_pred = loaded_model.predict(X_test)\n",
    "y_pred[:5]"
   ],
   "id": "da19711d6e932325",
   "outputs": [
    {
     "data": {
      "text/plain": [
       "array([0, 0, 0, 0, 0])"
      ]
     },
     "execution_count": 24,
     "metadata": {},
     "output_type": "execute_result"
    }
   ],
   "execution_count": 24
  },
  {
   "metadata": {},
   "cell_type": "markdown",
   "source": "### Transition the Model to Production",
   "id": "298edabb406c926"
  },
  {
   "metadata": {
    "ExecuteTime": {
     "end_time": "2025-06-25T10:36:10.855021Z",
     "start_time": "2025-06-25T10:36:10.777066Z"
    }
   },
   "cell_type": "code",
   "source": [
    "from mlflow import MlflowClient\n",
    "current_model_uri = f\"models:/{model_name}@challenger\"\n",
    "prod_model_name = 'anomaly-detection-prod'\n",
    "\n",
    "client = MlflowClient()\n",
    "\n",
    "client.copy_model_version(src_model_uri=current_model_uri, dst_name=prod_model_name)"
   ],
   "id": "d44ed2de0c50ba89",
   "outputs": [
    {
     "data": {
      "text/plain": [
       "<ModelVersion: aliases=[], creation_timestamp=1750847770825, current_stage='None', description='', last_updated_timestamp=1750847770825, name='anomaly-detection-prod', run_id='69ff8faa8f814cafb7f375054115d3a4', run_link='', source='models:/XGB-Smote/2', status='READY', status_message='', tags={}, user_id='', version='1'>"
      ]
     },
     "execution_count": 27,
     "metadata": {},
     "output_type": "execute_result"
    }
   ],
   "execution_count": 27
  },
  {
   "metadata": {
    "ExecuteTime": {
     "end_time": "2025-06-25T10:38:09.709286Z",
     "start_time": "2025-06-25T10:38:09.680994Z"
    }
   },
   "cell_type": "code",
   "source": [
    "model_name = 'anomaly-detection-prod'\n",
    "model_uri = f\"models:/{model_name}@champion\"\n",
    "loaded_model = mlflow.xgboost.load_model(model_uri)\n",
    "y_pred = loaded_model.predict(X_test)\n",
    "y_pred[:5]"
   ],
   "id": "42c9219e5b9697b9",
   "outputs": [
    {
     "data": {
      "text/plain": [
       "array([0, 0, 0, 0, 0])"
      ]
     },
     "execution_count": 29,
     "metadata": {},
     "output_type": "execute_result"
    }
   ],
   "execution_count": 29
  }
 ],
 "metadata": {
  "kernelspec": {
   "display_name": "Python 3",
   "language": "python",
   "name": "python3"
  },
  "language_info": {
   "codemirror_mode": {
    "name": "ipython",
    "version": 2
   },
   "file_extension": ".py",
   "mimetype": "text/x-python",
   "name": "python",
   "nbconvert_exporter": "python",
   "pygments_lexer": "ipython2",
   "version": "2.7.6"
  }
 },
 "nbformat": 4,
 "nbformat_minor": 5
}
