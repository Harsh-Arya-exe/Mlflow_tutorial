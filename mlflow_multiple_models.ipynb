{
 "cells": [
  {
   "cell_type": "code",
   "id": "b7898504",
   "metadata": {
    "ExecuteTime": {
     "end_time": "2025-06-25T08:56:58.313926Z",
     "start_time": "2025-06-25T08:56:53.963218Z"
    }
   },
   "source": [
    "import numpy as np\n",
    "from sklearn.datasets import make_classification\n",
    "from sklearn.model_selection import train_test_split\n",
    "from sklearn.linear_model import LogisticRegression\n",
    "from sklearn.ensemble import RandomForestClassifier\n",
    "from win32cryptcon import CMSG_CONTENT_ENCRYPT_PAD_ENCODED_LEN_FLAG\n",
    "from xgboost import XGBClassifier\n",
    "from sklearn.metrics import classification_report\n",
    "import warnings\n",
    "warnings.filterwarnings('ignore')"
   ],
   "outputs": [],
   "execution_count": 1
  },
  {
   "cell_type": "code",
   "id": "2411c8b7",
   "metadata": {
    "ExecuteTime": {
     "end_time": "2025-06-25T08:56:58.377208Z",
     "start_time": "2025-06-25T08:56:58.325921Z"
    }
   },
   "source": [
    "X, y = make_classification(n_samples=1000, n_features=10, n_informative=2, n_redundant=8, \n",
    "                           weights=[0.9, 0.1], flip_y=0, random_state=42)\n",
    "\n",
    "np.unique(y, return_counts=True)"
   ],
   "outputs": [
    {
     "data": {
      "text/plain": [
       "(array([0, 1]), array([900, 100], dtype=int64))"
      ]
     },
     "execution_count": 2,
     "metadata": {},
     "output_type": "execute_result"
    }
   ],
   "execution_count": 2
  },
  {
   "cell_type": "code",
   "id": "f40b2629",
   "metadata": {
    "ExecuteTime": {
     "end_time": "2025-06-25T08:56:58.552742Z",
     "start_time": "2025-06-25T08:56:58.538021Z"
    }
   },
   "source": [
    "X_train, X_test, y_train, y_test = train_test_split(X, y, test_size=0.3, stratify=y, random_state=42)"
   ],
   "outputs": [],
   "execution_count": 3
  },
  {
   "cell_type": "markdown",
   "id": "38d0441f",
   "metadata": {},
   "source": [
    "### Experiment 1: Train Logistic Regression Classifier"
   ]
  },
  {
   "cell_type": "code",
   "id": "cb9bd0a5",
   "metadata": {
    "ExecuteTime": {
     "end_time": "2025-06-25T08:56:58.689819Z",
     "start_time": "2025-06-25T08:56:58.644814Z"
    }
   },
   "source": [
    "log_reg = LogisticRegression(C=1, solver='liblinear')\n",
    "log_reg.fit(X_train, y_train)\n",
    "y_pred_log_reg = log_reg.predict(X_test)\n",
    "print(classification_report(y_test, y_pred_log_reg))"
   ],
   "outputs": [
    {
     "name": "stdout",
     "output_type": "stream",
     "text": [
      "              precision    recall  f1-score   support\n",
      "\n",
      "           0       0.95      0.96      0.95       270\n",
      "           1       0.60      0.50      0.55        30\n",
      "\n",
      "    accuracy                           0.92       300\n",
      "   macro avg       0.77      0.73      0.75       300\n",
      "weighted avg       0.91      0.92      0.91       300\n",
      "\n"
     ]
    }
   ],
   "execution_count": 4
  },
  {
   "cell_type": "markdown",
   "id": "0e0ba46b",
   "metadata": {},
   "source": [
    "### Experiment 2: Train Random Forest Classifier"
   ]
  },
  {
   "cell_type": "code",
   "id": "5f7db77a",
   "metadata": {
    "ExecuteTime": {
     "end_time": "2025-06-25T08:56:58.753814Z",
     "start_time": "2025-06-25T08:56:58.706814Z"
    }
   },
   "source": [
    "rf_clf = RandomForestClassifier(n_estimators=30, max_depth=3)\n",
    "rf_clf.fit(X_train, y_train)\n",
    "y_pred_rf = rf_clf.predict(X_test)\n",
    "print(classification_report(y_test, y_pred_rf))"
   ],
   "outputs": [
    {
     "name": "stdout",
     "output_type": "stream",
     "text": [
      "              precision    recall  f1-score   support\n",
      "\n",
      "           0       0.96      1.00      0.98       270\n",
      "           1       0.95      0.67      0.78        30\n",
      "\n",
      "    accuracy                           0.96       300\n",
      "   macro avg       0.96      0.83      0.88       300\n",
      "weighted avg       0.96      0.96      0.96       300\n",
      "\n"
     ]
    }
   ],
   "execution_count": 5
  },
  {
   "cell_type": "markdown",
   "id": "dfa47b8c",
   "metadata": {},
   "source": [
    "### Experiment 3: Train XGBoost"
   ]
  },
  {
   "cell_type": "code",
   "id": "14328adf",
   "metadata": {
    "ExecuteTime": {
     "end_time": "2025-06-25T08:56:58.848614Z",
     "start_time": "2025-06-25T08:56:58.770814Z"
    }
   },
   "source": [
    "xgb_clf = XGBClassifier(use_label_encoder=False, eval_metric='logloss')\n",
    "xgb_clf.fit(X_train, y_train)\n",
    "y_pred_xgb = xgb_clf.predict(X_test)\n",
    "print(classification_report(y_test, y_pred_xgb))"
   ],
   "outputs": [
    {
     "name": "stdout",
     "output_type": "stream",
     "text": [
      "              precision    recall  f1-score   support\n",
      "\n",
      "           0       0.98      1.00      0.99       270\n",
      "           1       0.96      0.80      0.87        30\n",
      "\n",
      "    accuracy                           0.98       300\n",
      "   macro avg       0.97      0.90      0.93       300\n",
      "weighted avg       0.98      0.98      0.98       300\n",
      "\n"
     ]
    }
   ],
   "execution_count": 6
  },
  {
   "metadata": {},
   "cell_type": "markdown",
   "source": "### Track Experiments Using MLFlow",
   "id": "b53003d8425f64b6"
  },
  {
   "metadata": {
    "ExecuteTime": {
     "end_time": "2025-06-25T08:56:58.880614Z",
     "start_time": "2025-06-25T08:56:58.865614Z"
    }
   },
   "cell_type": "code",
   "source": [
    "models = [\n",
    "    (\n",
    "        'LogisticRegression',\n",
    "        LogisticRegression(C=1, solver='liblinear'),\n",
    "        (X_train, y_train),\n",
    "        (X_test, y_test),\n",
    "    ),\n",
    "    (\n",
    "        'RandomForestClassifier',\n",
    "        RandomForestClassifier(n_estimators=30, max_depth=3),\n",
    "        (X_train, y_train),\n",
    "        (X_test, y_test),\n",
    "    ),\n",
    "    (\n",
    "        'XGBClassifier',\n",
    "        XGBClassifier(n_estimators=30, max_depth=3),\n",
    "        (X_train, y_train),\n",
    "        (X_test, y_test),\n",
    "    )\n",
    "]"
   ],
   "id": "803ff9c4183328f6",
   "outputs": [],
   "execution_count": 7
  },
  {
   "metadata": {
    "ExecuteTime": {
     "end_time": "2025-06-25T08:56:58.990613Z",
     "start_time": "2025-06-25T08:56:58.929613Z"
    }
   },
   "cell_type": "code",
   "source": [
    "reports = []\n",
    "\n",
    "for model_name, model, train_set, test_set in models:\n",
    "    X_train, y_train = train_set\n",
    "    X_test, y_test = test_set\n",
    "    model.fit(X_train, y_train)\n",
    "    y_pred = model.predict(X_test)\n",
    "    report = classification_report(y_test, y_pred, output_dict=True)\n",
    "    reports.append(report)"
   ],
   "id": "fe4eb0e0489c9eef",
   "outputs": [],
   "execution_count": 8
  },
  {
   "metadata": {
    "ExecuteTime": {
     "end_time": "2025-06-25T08:59:40.220954Z",
     "start_time": "2025-06-25T08:59:40.208954Z"
    }
   },
   "cell_type": "code",
   "source": "reports[0]",
   "id": "425c5d03bc2bf1d6",
   "outputs": [
    {
     "data": {
      "text/plain": [
       "{'0': {'precision': 0.9454545454545454,\n",
       "  'recall': 0.9629629629629629,\n",
       "  'f1-score': 0.9541284403669725,\n",
       "  'support': 270.0},\n",
       " '1': {'precision': 0.6,\n",
       "  'recall': 0.5,\n",
       "  'f1-score': 0.5454545454545454,\n",
       "  'support': 30.0},\n",
       " 'accuracy': 0.9166666666666666,\n",
       " 'macro avg': {'precision': 0.7727272727272727,\n",
       "  'recall': 0.7314814814814814,\n",
       "  'f1-score': 0.749791492910759,\n",
       "  'support': 300.0},\n",
       " 'weighted avg': {'precision': 0.9109090909090909,\n",
       "  'recall': 0.9166666666666666,\n",
       "  'f1-score': 0.91326105087573,\n",
       "  'support': 300.0}}"
      ]
     },
     "execution_count": 10,
     "metadata": {},
     "output_type": "execute_result"
    }
   ],
   "execution_count": 10
  },
  {
   "metadata": {
    "ExecuteTime": {
     "end_time": "2025-06-25T09:08:14.049078Z",
     "start_time": "2025-06-25T09:08:07.894023Z"
    }
   },
   "cell_type": "code",
   "source": [
    "import mlflow\n",
    "import sklearn\n",
    "import xgboost\n",
    "\n",
    "mlflow.set_experiment('Anomaly Detection')\n",
    "mlflow.set_tracking_uri('http://127.0.0.1:5000/')\n",
    "\n",
    "for i, element in enumerate(models):\n",
    "    name = element[0]\n",
    "    model = element[1]\n",
    "    params = dict()\n",
    "    params['accuracy'] = reports[i]['accuracy']\n",
    "    params['recall_class_0'] = reports[i]['0']['recall']\n",
    "    params['recall_class_1'] = reports[i]['1']['recall']\n",
    "    params['f1_score_macro'] = reports[i]['macro avg']['f1-score']\n",
    "    params['f1_score_weighted'] = reports[i]['weighted avg']['f1-score']\n",
    "\n",
    "    with mlflow.start_run(run_name=name):\n",
    "\n",
    "        mlflow.log_metrics(params)\n",
    "\n",
    "        mlflow.log_param('model_name', name)\n",
    "\n",
    "        if \"XGB\" in name:\n",
    "            mlflow.xgboost.log_model(model, 'model')\n",
    "        else:\n",
    "            mlflow.sklearn.log_model(model, 'model')"
   ],
   "id": "e40d12946c20649d",
   "outputs": [],
   "execution_count": 14
  }
 ],
 "metadata": {
  "language_info": {
   "name": "python"
  }
 },
 "nbformat": 4,
 "nbformat_minor": 5
}
